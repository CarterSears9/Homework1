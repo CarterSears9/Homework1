{
 "cells": [
  {
   "cell_type": "code",
   "execution_count": 99,
   "metadata": {},
   "outputs": [],
   "source": [
    "import numpy as np\n",
    "from sklearn.model_selection import train_test_split\n",
    "from sklearn.neighbors import NearestNeighbors\n",
    "from sklearn import metrics\n",
    "from sklearn.neighbors import KNeighborsClassifier"
   ]
  },
  {
   "cell_type": "markdown",
   "metadata": {
    "collapsed": true
   },
   "source": [
    "# Machine Learning Example Case: \n",
    "House Sale Price Prediction (like Zillow's \"zestimate\") "
   ]
  },
  {
   "cell_type": "markdown",
   "metadata": {},
   "source": [
    "When you see a line starting with \"TASK\", do that task!"
   ]
  },
  {
   "cell_type": "markdown",
   "metadata": {},
   "source": [
    "### TASK: Click on the next cell and press shift-enter\n",
    "You will get the code in it get executed.   \n",
    "The result of last command or representation of last varible in that cell will be displayed "
   ]
  },
  {
   "cell_type": "code",
   "execution_count": 2,
   "metadata": {},
   "outputs": [
    {
     "data": {
      "text/html": [
       "<div>\n",
       "<style scoped>\n",
       "    .dataframe tbody tr th:only-of-type {\n",
       "        vertical-align: middle;\n",
       "    }\n",
       "\n",
       "    .dataframe tbody tr th {\n",
       "        vertical-align: top;\n",
       "    }\n",
       "\n",
       "    .dataframe thead th {\n",
       "        text-align: right;\n",
       "    }\n",
       "</style>\n",
       "<table border=\"1\" class=\"dataframe\">\n",
       "  <thead>\n",
       "    <tr style=\"text-align: right;\">\n",
       "      <th></th>\n",
       "      <th>Id</th>\n",
       "      <th>MSSubClass</th>\n",
       "      <th>LotFrontage</th>\n",
       "      <th>LotArea</th>\n",
       "      <th>OverallQual</th>\n",
       "      <th>OverallCond</th>\n",
       "      <th>YearBuilt</th>\n",
       "      <th>YearRemodAdd</th>\n",
       "      <th>MasVnrArea</th>\n",
       "      <th>ExterQual</th>\n",
       "      <th>...</th>\n",
       "      <th>GarageType_NA</th>\n",
       "      <th>SaleType_COD</th>\n",
       "      <th>SaleType_CWD</th>\n",
       "      <th>SaleType_Con</th>\n",
       "      <th>SaleType_ConLD</th>\n",
       "      <th>SaleType_ConLI</th>\n",
       "      <th>SaleType_ConLw</th>\n",
       "      <th>SaleType_New</th>\n",
       "      <th>SaleType_Oth</th>\n",
       "      <th>SaleType_WD</th>\n",
       "    </tr>\n",
       "  </thead>\n",
       "  <tbody>\n",
       "    <tr>\n",
       "      <th>0</th>\n",
       "      <td>1</td>\n",
       "      <td>60</td>\n",
       "      <td>65.0</td>\n",
       "      <td>8450</td>\n",
       "      <td>7</td>\n",
       "      <td>5</td>\n",
       "      <td>2003</td>\n",
       "      <td>2003</td>\n",
       "      <td>196.0</td>\n",
       "      <td>Gd</td>\n",
       "      <td>...</td>\n",
       "      <td>0</td>\n",
       "      <td>0</td>\n",
       "      <td>0</td>\n",
       "      <td>0</td>\n",
       "      <td>0</td>\n",
       "      <td>0</td>\n",
       "      <td>0</td>\n",
       "      <td>0</td>\n",
       "      <td>0</td>\n",
       "      <td>1</td>\n",
       "    </tr>\n",
       "    <tr>\n",
       "      <th>1</th>\n",
       "      <td>2</td>\n",
       "      <td>20</td>\n",
       "      <td>80.0</td>\n",
       "      <td>9600</td>\n",
       "      <td>6</td>\n",
       "      <td>8</td>\n",
       "      <td>1976</td>\n",
       "      <td>1976</td>\n",
       "      <td>0.0</td>\n",
       "      <td>TA</td>\n",
       "      <td>...</td>\n",
       "      <td>0</td>\n",
       "      <td>0</td>\n",
       "      <td>0</td>\n",
       "      <td>0</td>\n",
       "      <td>0</td>\n",
       "      <td>0</td>\n",
       "      <td>0</td>\n",
       "      <td>0</td>\n",
       "      <td>0</td>\n",
       "      <td>1</td>\n",
       "    </tr>\n",
       "    <tr>\n",
       "      <th>2</th>\n",
       "      <td>3</td>\n",
       "      <td>60</td>\n",
       "      <td>68.0</td>\n",
       "      <td>11250</td>\n",
       "      <td>7</td>\n",
       "      <td>5</td>\n",
       "      <td>2001</td>\n",
       "      <td>2002</td>\n",
       "      <td>162.0</td>\n",
       "      <td>Gd</td>\n",
       "      <td>...</td>\n",
       "      <td>0</td>\n",
       "      <td>0</td>\n",
       "      <td>0</td>\n",
       "      <td>0</td>\n",
       "      <td>0</td>\n",
       "      <td>0</td>\n",
       "      <td>0</td>\n",
       "      <td>0</td>\n",
       "      <td>0</td>\n",
       "      <td>1</td>\n",
       "    </tr>\n",
       "    <tr>\n",
       "      <th>3</th>\n",
       "      <td>4</td>\n",
       "      <td>70</td>\n",
       "      <td>60.0</td>\n",
       "      <td>9550</td>\n",
       "      <td>7</td>\n",
       "      <td>5</td>\n",
       "      <td>1915</td>\n",
       "      <td>1970</td>\n",
       "      <td>0.0</td>\n",
       "      <td>TA</td>\n",
       "      <td>...</td>\n",
       "      <td>0</td>\n",
       "      <td>0</td>\n",
       "      <td>0</td>\n",
       "      <td>0</td>\n",
       "      <td>0</td>\n",
       "      <td>0</td>\n",
       "      <td>0</td>\n",
       "      <td>0</td>\n",
       "      <td>0</td>\n",
       "      <td>1</td>\n",
       "    </tr>\n",
       "    <tr>\n",
       "      <th>4</th>\n",
       "      <td>5</td>\n",
       "      <td>60</td>\n",
       "      <td>84.0</td>\n",
       "      <td>14260</td>\n",
       "      <td>8</td>\n",
       "      <td>5</td>\n",
       "      <td>2000</td>\n",
       "      <td>2000</td>\n",
       "      <td>350.0</td>\n",
       "      <td>Gd</td>\n",
       "      <td>...</td>\n",
       "      <td>0</td>\n",
       "      <td>0</td>\n",
       "      <td>0</td>\n",
       "      <td>0</td>\n",
       "      <td>0</td>\n",
       "      <td>0</td>\n",
       "      <td>0</td>\n",
       "      <td>0</td>\n",
       "      <td>0</td>\n",
       "      <td>1</td>\n",
       "    </tr>\n",
       "  </tbody>\n",
       "</table>\n",
       "<p>5 rows × 238 columns</p>\n",
       "</div>"
      ],
      "text/plain": [
       "   Id  MSSubClass  LotFrontage  LotArea  OverallQual  OverallCond  YearBuilt  \\\n",
       "0   1          60         65.0     8450            7            5       2003   \n",
       "1   2          20         80.0     9600            6            8       1976   \n",
       "2   3          60         68.0    11250            7            5       2001   \n",
       "3   4          70         60.0     9550            7            5       1915   \n",
       "4   5          60         84.0    14260            8            5       2000   \n",
       "\n",
       "   YearRemodAdd  MasVnrArea ExterQual  ... GarageType_NA SaleType_COD  \\\n",
       "0          2003       196.0        Gd  ...             0            0   \n",
       "1          1976         0.0        TA  ...             0            0   \n",
       "2          2002       162.0        Gd  ...             0            0   \n",
       "3          1970         0.0        TA  ...             0            0   \n",
       "4          2000       350.0        Gd  ...             0            0   \n",
       "\n",
       "  SaleType_CWD SaleType_Con SaleType_ConLD  SaleType_ConLI SaleType_ConLw  \\\n",
       "0            0            0              0               0              0   \n",
       "1            0            0              0               0              0   \n",
       "2            0            0              0               0              0   \n",
       "3            0            0              0               0              0   \n",
       "4            0            0              0               0              0   \n",
       "\n",
       "   SaleType_New  SaleType_Oth  SaleType_WD  \n",
       "0             0             0            1  \n",
       "1             0             0            1  \n",
       "2             0             0            1  \n",
       "3             0             0            1  \n",
       "4             0             0            1  \n",
       "\n",
       "[5 rows x 238 columns]"
      ]
     },
     "execution_count": 2,
     "metadata": {},
     "output_type": "execute_result"
    }
   ],
   "source": [
    "import pandas as pd\n",
    "housing = pd.read_csv('/Users/cartersears/Documents/housing_processed.csv')\n",
    "housing.head()"
   ]
  },
  {
   "cell_type": "markdown",
   "metadata": {},
   "source": [
    "### Filtering Columns\n",
    "Some columns were not removed when equivalent coded ones were created"
   ]
  },
  {
   "cell_type": "code",
   "execution_count": 3,
   "metadata": {},
   "outputs": [
    {
     "data": {
      "text/html": [
       "<div>\n",
       "<style scoped>\n",
       "    .dataframe tbody tr th:only-of-type {\n",
       "        vertical-align: middle;\n",
       "    }\n",
       "\n",
       "    .dataframe tbody tr th {\n",
       "        vertical-align: top;\n",
       "    }\n",
       "\n",
       "    .dataframe thead th {\n",
       "        text-align: right;\n",
       "    }\n",
       "</style>\n",
       "<table border=\"1\" class=\"dataframe\">\n",
       "  <thead>\n",
       "    <tr style=\"text-align: right;\">\n",
       "      <th></th>\n",
       "      <th>ExterQual</th>\n",
       "      <th>ExterQual_Coded</th>\n",
       "    </tr>\n",
       "  </thead>\n",
       "  <tbody>\n",
       "    <tr>\n",
       "      <th>0</th>\n",
       "      <td>Gd</td>\n",
       "      <td>3</td>\n",
       "    </tr>\n",
       "    <tr>\n",
       "      <th>1</th>\n",
       "      <td>TA</td>\n",
       "      <td>2</td>\n",
       "    </tr>\n",
       "    <tr>\n",
       "      <th>2</th>\n",
       "      <td>Gd</td>\n",
       "      <td>3</td>\n",
       "    </tr>\n",
       "    <tr>\n",
       "      <th>3</th>\n",
       "      <td>TA</td>\n",
       "      <td>2</td>\n",
       "    </tr>\n",
       "    <tr>\n",
       "      <th>4</th>\n",
       "      <td>Gd</td>\n",
       "      <td>3</td>\n",
       "    </tr>\n",
       "  </tbody>\n",
       "</table>\n",
       "</div>"
      ],
      "text/plain": [
       "  ExterQual  ExterQual_Coded\n",
       "0        Gd                3\n",
       "1        TA                2\n",
       "2        Gd                3\n",
       "3        TA                2\n",
       "4        Gd                3"
      ]
     },
     "execution_count": 3,
     "metadata": {},
     "output_type": "execute_result"
    }
   ],
   "source": [
    "housing[[\"ExterQual\",\"ExterQual_Coded\"]].head()"
   ]
  },
  {
   "cell_type": "markdown",
   "metadata": {},
   "source": [
    "### Filtering in a series\n",
    "dtypes returns a series   \n",
    "filtering series and dataframes are similar"
   ]
  },
  {
   "cell_type": "code",
   "execution_count": 4,
   "metadata": {},
   "outputs": [
    {
     "data": {
      "text/plain": [
       "pandas.core.series.Series"
      ]
     },
     "execution_count": 4,
     "metadata": {},
     "output_type": "execute_result"
    }
   ],
   "source": [
    "type(housing.dtypes==object)"
   ]
  },
  {
   "cell_type": "code",
   "execution_count": 5,
   "metadata": {},
   "outputs": [
    {
     "data": {
      "text/plain": [
       "ExterQual       object\n",
       "ExterCond       object\n",
       "BsmtQual        object\n",
       "BsmtCond        object\n",
       "BsmtExposure    object\n",
       "BsmtFinType1    object\n",
       "BsmtFinType2    object\n",
       "HeatingQC       object\n",
       "CentralAir      object\n",
       "KitchenQual     object\n",
       "Functional      object\n",
       "FireplaceQu     object\n",
       "GarageFinish    object\n",
       "GarageQual      object\n",
       "GarageCond      object\n",
       "PavedDrive      object\n",
       "dtype: object"
      ]
     },
     "execution_count": 5,
     "metadata": {},
     "output_type": "execute_result"
    }
   ],
   "source": [
    "housing.dtypes[housing.dtypes==object]"
   ]
  },
  {
   "cell_type": "code",
   "execution_count": 6,
   "metadata": {},
   "outputs": [
    {
     "data": {
      "text/plain": [
       "(16,)"
      ]
     },
     "execution_count": 6,
     "metadata": {},
     "output_type": "execute_result"
    }
   ],
   "source": [
    "housing.dtypes[housing.dtypes==object].shape"
   ]
  },
  {
   "cell_type": "code",
   "execution_count": 7,
   "metadata": {},
   "outputs": [
    {
     "data": {
      "text/plain": [
       "True"
      ]
     },
     "execution_count": 7,
     "metadata": {},
     "output_type": "execute_result"
    }
   ],
   "source": [
    "\"SalePrice\" in housing.columns "
   ]
  },
  {
   "cell_type": "markdown",
   "metadata": {},
   "source": [
    "### Removing Undesired Columns\n",
    "In my case, my colleague had left above non-numeric columns in preprocessing, after creating corresponding coded versions"
   ]
  },
  {
   "cell_type": "code",
   "execution_count": 8,
   "metadata": {},
   "outputs": [
    {
     "data": {
      "text/plain": [
       "238"
      ]
     },
     "execution_count": 8,
     "metadata": {},
     "output_type": "execute_result"
    }
   ],
   "source": [
    "len(housing.columns)"
   ]
  },
  {
   "cell_type": "code",
   "execution_count": 9,
   "metadata": {},
   "outputs": [],
   "source": [
    "# We could drop columns by name:\n",
    "housing_ml = housing.drop(columns=[\"ExterQual\"])"
   ]
  },
  {
   "cell_type": "code",
   "execution_count": 10,
   "metadata": {},
   "outputs": [],
   "source": [
    "# or wholesale, keeping only numeric:\n",
    "housing_ml = housing.loc[:,housing.dtypes != object]"
   ]
  },
  {
   "cell_type": "code",
   "execution_count": 11,
   "metadata": {},
   "outputs": [
    {
     "data": {
      "text/plain": [
       "222"
      ]
     },
     "execution_count": 11,
     "metadata": {},
     "output_type": "execute_result"
    }
   ],
   "source": [
    "len(housing_ml.columns)"
   ]
  },
  {
   "cell_type": "markdown",
   "metadata": {},
   "source": [
    "# Separate Target into new Variable\n",
    "- \"SalePrice\" is the target.    \n",
    " - The value we want to predict from other values (features) for a house.  \n",
    "- Currently it is a column like the other features.   \n",
    "- Scikit-learn needs 2 variables: features (X) and target (y) to be Predicted into its own 1-D array "
   ]
  },
  {
   "cell_type": "markdown",
   "metadata": {},
   "source": [
    "# NumPy\n",
    "- Both Pandas and scikit-learn are build on top of NumPy\n",
    "- scikit-learn can not directly work on dataframes\n",
    "- X and y data type needs to be NumPy \"ndarrays\""
   ]
  },
  {
   "cell_type": "code",
   "execution_count": 12,
   "metadata": {},
   "outputs": [
    {
     "data": {
      "text/plain": [
       "(1460, 222)"
      ]
     },
     "execution_count": 12,
     "metadata": {},
     "output_type": "execute_result"
    }
   ],
   "source": [
    "housing_ml.shape"
   ]
  },
  {
   "cell_type": "code",
   "execution_count": 13,
   "metadata": {},
   "outputs": [
    {
     "data": {
      "text/plain": [
       "pandas.core.series.Series"
      ]
     },
     "execution_count": 13,
     "metadata": {},
     "output_type": "execute_result"
    }
   ],
   "source": [
    "# Split data as features and target\n",
    "# take \"SalePrice\" values into its own 1-D array \n",
    "sale_price = housing_ml.pop('SalePrice')\n",
    "type(sale_price)"
   ]
  },
  {
   "cell_type": "code",
   "execution_count": 14,
   "metadata": {},
   "outputs": [
    {
     "data": {
      "text/plain": [
       "(1460, 221)"
      ]
     },
     "execution_count": 14,
     "metadata": {},
     "output_type": "execute_result"
    }
   ],
   "source": [
    "# pop removes the column\n",
    "# \"in place\" operation\n",
    "# now housing_ml has one less column\n",
    "housing_ml.shape"
   ]
  },
  {
   "cell_type": "code",
   "execution_count": 15,
   "metadata": {},
   "outputs": [
    {
     "data": {
      "text/plain": [
       "pandas.core.series.Series"
      ]
     },
     "execution_count": 15,
     "metadata": {},
     "output_type": "execute_result"
    }
   ],
   "source": [
    "y = sale_price\n",
    "type(y)"
   ]
  },
  {
   "cell_type": "markdown",
   "metadata": {},
   "source": [
    "# See what other methods are available for ndarray"
   ]
  },
  {
   "cell_type": "code",
   "execution_count": 16,
   "metadata": {},
   "outputs": [],
   "source": [
    "# press tab after putting cursor after dot \".\"\n",
    "#y. #uncomment, press tab after . "
   ]
  },
  {
   "cell_type": "code",
   "execution_count": 17,
   "metadata": {},
   "outputs": [
    {
     "data": {
      "text/plain": [
       "(1460,)"
      ]
     },
     "execution_count": 17,
     "metadata": {},
     "output_type": "execute_result"
    }
   ],
   "source": [
    "y.shape\n",
    "# (1460,)\n",
    "# it is equivalent to (1460)\n",
    "# means it is a 1-d array"
   ]
  },
  {
   "cell_type": "markdown",
   "metadata": {},
   "source": [
    "### TASK: get ndarray version of feature dataframe put it onto variable X"
   ]
  },
  {
   "cell_type": "code",
   "execution_count": 18,
   "metadata": {},
   "outputs": [],
   "source": [
    "X = housing_ml"
   ]
  },
  {
   "cell_type": "markdown",
   "metadata": {},
   "source": [
    "### TASK: check the shape of X"
   ]
  },
  {
   "cell_type": "code",
   "execution_count": 19,
   "metadata": {},
   "outputs": [
    {
     "data": {
      "text/plain": [
       "(1460, 221)"
      ]
     },
     "execution_count": 19,
     "metadata": {},
     "output_type": "execute_result"
    }
   ],
   "source": [
    "X.shape"
   ]
  },
  {
   "cell_type": "markdown",
   "metadata": {},
   "source": [
    "### TASK: programmatically check if X and y has matching number of rows\n",
    "You"
   ]
  },
  {
   "cell_type": "code",
   "execution_count": 20,
   "metadata": {},
   "outputs": [
    {
     "data": {
      "text/plain": [
       "True"
      ]
     },
     "execution_count": 20,
     "metadata": {},
     "output_type": "execute_result"
    }
   ],
   "source": [
    "X.shape[0] == y.shape[0]"
   ]
  },
  {
   "cell_type": "markdown",
   "metadata": {},
   "source": [
    "# First Model\n",
    "Q: What would you do if you had no features?"
   ]
  },
  {
   "cell_type": "markdown",
   "metadata": {},
   "source": [
    "A: You would always estimatate the average house price."
   ]
  },
  {
   "cell_type": "markdown",
   "metadata": {},
   "source": [
    "We will have to do much better than that.  \n",
    "We have so much data to base our decision on.   \n",
    "It can still serve us as a baseline to compare.   \n",
    "An inferior baseline could be: random in the range or max and min in training data. "
   ]
  },
  {
   "cell_type": "code",
   "execution_count": 21,
   "metadata": {},
   "outputs": [
    {
     "data": {
      "text/plain": [
       "DummyRegressor(constant=None, quantile=None, strategy='mean')"
      ]
     },
     "execution_count": 21,
     "metadata": {},
     "output_type": "execute_result"
    }
   ],
   "source": [
    "# Import estimator\n",
    "from sklearn.dummy import DummyRegressor\n",
    "# Instantiate estimator\n",
    "# guess the mean every single time\n",
    "mean_reg = DummyRegressor(strategy='mean')\n",
    "# fit estimator\n",
    "mean_reg.fit(X, y)"
   ]
  },
  {
   "cell_type": "code",
   "execution_count": 22,
   "metadata": {},
   "outputs": [
    {
     "data": {
      "text/plain": [
       "array([180921.19589041, 180921.19589041, 180921.19589041, ...,\n",
       "       180921.19589041, 180921.19589041, 180921.19589041])"
      ]
     },
     "execution_count": 22,
     "metadata": {},
     "output_type": "execute_result"
    }
   ],
   "source": [
    "# predict\n",
    "mean_reg.predict(X)"
   ]
  },
  {
   "cell_type": "markdown",
   "metadata": {},
   "source": [
    "## Evaluating The Model\n",
    "scikit-learn regressors have a score function.   \n",
    "It gives you how much better your model does compared to worst model\n",
    "Technically: what percentage of the variance has decreased over the worst model"
   ]
  },
  {
   "cell_type": "markdown",
   "metadata": {},
   "source": [
    "\"Mean\" *is* the worst model, so its score will be 0."
   ]
  },
  {
   "cell_type": "code",
   "execution_count": 23,
   "metadata": {},
   "outputs": [
    {
     "data": {
      "text/plain": [
       "0.0"
      ]
     },
     "execution_count": 23,
     "metadata": {},
     "output_type": "execute_result"
    }
   ],
   "source": [
    "mean_reg.score(X, y)"
   ]
  },
  {
   "cell_type": "markdown",
   "metadata": {},
   "source": [
    "## Fitting a linear model \n",
    "First, let's use only one feature "
   ]
  },
  {
   "cell_type": "code",
   "execution_count": 24,
   "metadata": {},
   "outputs": [],
   "source": [
    "from sklearn.linear_model import LinearRegression\n",
    "linear_model = LinearRegression()"
   ]
  },
  {
   "cell_type": "code",
   "execution_count": 25,
   "metadata": {},
   "outputs": [],
   "source": [
    "X_lf = housing_ml[['LotFrontage']]"
   ]
  },
  {
   "cell_type": "code",
   "execution_count": 26,
   "metadata": {},
   "outputs": [
    {
     "data": {
      "text/plain": [
       "LinearRegression(copy_X=True, fit_intercept=True, n_jobs=None, normalize=False)"
      ]
     },
     "execution_count": 26,
     "metadata": {},
     "output_type": "execute_result"
    }
   ],
   "source": [
    "linear_model.fit(X_lf, y)"
   ]
  },
  {
   "cell_type": "markdown",
   "metadata": {},
   "source": [
    "Above, you see that it used defaults to create the estimator.   \n",
    "You could google \"LinearRegression sklearn\" and find the documentation:\n",
    "http://scikit-learn.org/stable/modules/generated/sklearn.linear_model.LinearRegression.html\n",
    "to see the options for the other parameters."
   ]
  },
  {
   "cell_type": "code",
   "execution_count": 27,
   "metadata": {},
   "outputs": [],
   "source": [
    "y_pred = linear_model.predict(X_lf)"
   ]
  },
  {
   "cell_type": "code",
   "execution_count": 28,
   "metadata": {},
   "outputs": [
    {
     "data": {
      "text/plain": [
       "0.11215612336205616"
      ]
     },
     "execution_count": 28,
     "metadata": {},
     "output_type": "execute_result"
    }
   ],
   "source": [
    "linear_model.score(X_lf, y)"
   ]
  },
  {
   "cell_type": "markdown",
   "metadata": {},
   "source": [
    "### Chart Showing the Linear Fit\n",
    "matplotlib is the most common visualization library"
   ]
  },
  {
   "cell_type": "code",
   "execution_count": 29,
   "metadata": {},
   "outputs": [],
   "source": [
    "import matplotlib.pyplot as plt\n",
    "%matplotlib inline"
   ]
  },
  {
   "cell_type": "code",
   "execution_count": 30,
   "metadata": {},
   "outputs": [
    {
     "data": {
      "image/png": "[encoded data removed]",
      "text/plain": [
       "<Figure size 864x360 with 1 Axes>"
      ]
     },
     "metadata": {
      "needs_background": "light"
     },
     "output_type": "display_data"
    }
   ],
   "source": [
    "plt.figure(figsize=(12, 5))\n",
    "plt.scatter(y, y_pred);"
   ]
  },
  {
   "cell_type": "code",
   "execution_count": 31,
   "metadata": {},
   "outputs": [
    {
     "data": {
      "text/plain": [
       "[<matplotlib.lines.Line2D at 0x7fac7a905950>]"
      ]
     },
     "execution_count": 31,
     "metadata": {},
     "output_type": "execute_result"
    },
    {
     "data": {
      "image/png": "[encoded data removed]",
      "text/plain": [
       "<Figure size 432x288 with 1 Axes>"
      ]
     },
     "metadata": {
      "needs_background": "light"
     },
     "output_type": "display_data"
    }
   ],
   "source": [
    "plt.scatter(X_lf,y)\n",
    "plt.plot(X_lf,y_pred,'r--')"
   ]
  },
  {
   "cell_type": "markdown",
   "metadata": {},
   "source": [
    "### TASK: add labels to these charts\n",
    "search label:\n",
    "https://matplotlib.org/tutorials/introductory/pyplot.html#sphx-glr-tutorials-introductory-pyplot-py\n"
   ]
  },
  {
   "cell_type": "markdown",
   "metadata": {},
   "source": [
    "### Task: try replacing scatter with plot\n",
    "Do you see why scatter is needed for data rows.\n",
    "Try also replacing plot with scatter. "
   ]
  },
  {
   "cell_type": "markdown",
   "metadata": {},
   "source": [
    "# Effect of using a Better predictor \n",
    "Ground Living Area should be better than Lot Frontage!"
   ]
  },
  {
   "cell_type": "code",
   "execution_count": 32,
   "metadata": {},
   "outputs": [],
   "source": [
    "X_area = housing_ml[['GrLivArea']]"
   ]
  },
  {
   "cell_type": "code",
   "execution_count": 33,
   "metadata": {},
   "outputs": [
    {
     "data": {
      "text/plain": [
       "LinearRegression(copy_X=True, fit_intercept=True, n_jobs=None, normalize=False)"
      ]
     },
     "execution_count": 33,
     "metadata": {},
     "output_type": "execute_result"
    }
   ],
   "source": [
    "linear_model.fit(X_area, y)"
   ]
  },
  {
   "cell_type": "markdown",
   "metadata": {},
   "source": [
    "Now the linear_model has another model in it"
   ]
  },
  {
   "cell_type": "code",
   "execution_count": 34,
   "metadata": {},
   "outputs": [
    {
     "data": {
      "text/plain": [
       "0.5021486502718042"
      ]
     },
     "execution_count": 34,
     "metadata": {},
     "output_type": "execute_result"
    }
   ],
   "source": [
    "y_pred2 = linear_model.predict(X_area)\n",
    "linear_model.score(X_area, y)"
   ]
  },
  {
   "cell_type": "code",
   "execution_count": 35,
   "metadata": {},
   "outputs": [
    {
     "data": {
      "image/png": "[encoded data removed]",
      "text/plain": [
       "<Figure size 864x360 with 1 Axes>"
      ]
     },
     "metadata": {
      "needs_background": "light"
     },
     "output_type": "display_data"
    }
   ],
   "source": [
    "plt.figure(figsize=(12, 5))\n",
    "plt.scatter(y, y_pred2); # blue obviously better\n",
    "plt.scatter(y, y_pred); # orange"
   ]
  },
  {
   "cell_type": "markdown",
   "metadata": {},
   "source": [
    "### TASK: add legend\n",
    "which color is the prediction based on which feature"
   ]
  },
  {
   "cell_type": "markdown",
   "metadata": {},
   "source": [
    "# Using all predictors!"
   ]
  },
  {
   "cell_type": "code",
   "execution_count": 36,
   "metadata": {},
   "outputs": [
    {
     "data": {
      "text/plain": [
       "(1460, 221)"
      ]
     },
     "execution_count": 36,
     "metadata": {},
     "output_type": "execute_result"
    }
   ],
   "source": [
    "# We had 81 columns (80 features) in original dataset,\n",
    "# coded as 221 features!\n",
    "X.shape"
   ]
  },
  {
   "cell_type": "code",
   "execution_count": 37,
   "metadata": {},
   "outputs": [
    {
     "data": {
      "text/plain": [
       "LinearRegression(copy_X=True, fit_intercept=True, n_jobs=None, normalize=False)"
      ]
     },
     "execution_count": 37,
     "metadata": {},
     "output_type": "execute_result"
    }
   ],
   "source": [
    "linear_model.fit(X, y)"
   ]
  },
  {
   "cell_type": "code",
   "execution_count": 38,
   "metadata": {},
   "outputs": [],
   "source": [
    "y_pred3 = linear_model.predict(X)"
   ]
  },
  {
   "cell_type": "code",
   "execution_count": 39,
   "metadata": {},
   "outputs": [
    {
     "data": {
      "text/plain": [
       "0.918472889091411"
      ]
     },
     "execution_count": 39,
     "metadata": {},
     "output_type": "execute_result"
    }
   ],
   "source": [
    "linear_model.score(X, y)"
   ]
  },
  {
   "cell_type": "code",
   "execution_count": 40,
   "metadata": {},
   "outputs": [
    {
     "data": {
      "image/png": "[encoded data removed]",
      "text/plain": [
       "<Figure size 864x360 with 1 Axes>"
      ]
     },
     "metadata": {
      "needs_background": "light"
     },
     "output_type": "display_data"
    }
   ],
   "source": [
    "plt.figure(figsize=(12, 5))\n",
    "plt.scatter(y_pred3, y);"
   ]
  },
  {
   "cell_type": "code",
   "execution_count": 41,
   "metadata": {},
   "outputs": [],
   "source": [
    "X_train, X_test, y_train, y_test = train_test_split(X, y, test_size=0.20, random_state=21)"
   ]
  },
  {
   "cell_type": "code",
   "execution_count": 42,
   "metadata": {},
   "outputs": [
    {
     "data": {
      "text/plain": [
       "[0       208500\n",
       " 1       181500\n",
       " 2       223500\n",
       " 3       140000\n",
       " 4       250000\n",
       "          ...  \n",
       " 1090     92900\n",
       " 1091    160000\n",
       " 1092    136500\n",
       " 1093    146000\n",
       " 1094    129000\n",
       " Name: SalePrice, Length: 1095, dtype: int64,\n",
       " 1095    176432\n",
       " 1096    127000\n",
       " 1097    170000\n",
       " 1098    128000\n",
       " 1099    157000\n",
       "          ...  \n",
       " 1455    175000\n",
       " 1456    210000\n",
       " 1457    266500\n",
       " 1458    142125\n",
       " 1459    147500\n",
       " Name: SalePrice, Length: 365, dtype: int64]"
      ]
     },
     "execution_count": 42,
     "metadata": {},
     "output_type": "execute_result"
    }
   ],
   "source": [
    "train_test_split(y, shuffle=False)"
   ]
  },
  {
   "cell_type": "markdown",
   "metadata": {},
   "source": [
    "## Loop generating scores of each feature alone"
   ]
  },
  {
   "cell_type": "code",
   "execution_count": 43,
   "metadata": {},
   "outputs": [
    {
     "name": "stdout",
     "output_type": "stream",
     "text": [
      "Id  :  -0.0008072067830384722\n",
      "MSSubClass  :  0.009706020526556114\n",
      "LotFrontage  :  0.11448119467464635\n",
      "LotArea  :  0.07923143765942865\n",
      "OverallQual  :  0.6454631197278844\n",
      "OverallCond  :  -0.00796290433712965\n",
      "YearBuilt  :  0.28938848027458564\n",
      "YearRemodAdd  :  0.26876785230268385\n",
      "MasVnrArea  :  0.22616708683842457\n",
      "BsmtFinSF1  :  0.15071819017164356\n",
      "BsmtFinSF2  :  -0.0028772376687113965\n",
      "BsmtUnfSF  :  0.081095831952405\n",
      "TotalBsmtSF  :  0.42491266111423953\n",
      "1stFlrSF  :  0.4166679048480356\n",
      "2ndFlrSF  :  0.04143754561525693\n",
      "LowQualFinSF  :  0.0012553163707905712\n",
      "GrLivArea  :  0.4442896667814059\n",
      "BsmtFullBath  :  0.016171601613420572\n",
      "BsmtHalfBath  :  -0.005935026640981\n",
      "FullBath  :  0.2832024749049453\n",
      "HalfBath  :  0.050411616658065705\n",
      "BedroomAbvGr  :  0.010815735894967538\n",
      "KitchenAbvGr  :  0.012397644841210531\n",
      "TotRmsAbvGrd  :  0.23844007135695522\n",
      "Fireplaces  :  0.22530812112691867\n",
      "GarageCars  :  0.41193116659665807\n",
      "GarageArea  :  0.4073263621599066\n",
      "WoodDeckSF  :  0.12111874393492539\n",
      "OpenPorchSF  :  0.10873446236806505\n",
      "EnclosedPorch  :  0.014817919175916794\n",
      "3SsnPorch  :  -0.0030193188937734927\n",
      "ScreenPorch  :  0.004043313759705347\n",
      "PoolArea  :  -0.010392804721561788\n",
      "MiscVal  :  -0.001734887292517806\n",
      "MoSold  :  -0.0056940252145061265\n",
      "YrSold  :  0.001974422227711381\n",
      "ExterQual_Coded  :  0.49917534712671535\n",
      "ExterCond_Coded  :  0.0002711428856136955\n",
      "BsmtQual_Coded  :  0.3409700148262619\n",
      "BsmtCond_Coded  :  0.039912499312463656\n",
      "BsmtExposure_Coded  :  0.15655515924802843\n",
      "BsmtFinType1_Coded  :  0.11223020600209643\n",
      "BsmtFinType2_Coded  :  -0.006221040614055262\n",
      "HeatingQC_Coded  :  0.19307201962643328\n",
      "KitchenQual_Coded  :  0.43970293723342646\n",
      "Functional_Coded  :  0.006492780816621413\n",
      "FireplaceQu_Coded  :  0.2956754863552059\n",
      "GarageFinish_Coded  :  0.31628495442245047\n",
      "GarageQual_Coded  :  0.06645673384158557\n",
      "GarageCond_Coded  :  0.0618914395552519\n",
      "PavedDrive_Coded  :  0.03198096318687549\n",
      "CentralAir_Coded  :  0.0664897808085082\n",
      "SaleCondition_Abnorml  :  0.02314391720467801\n",
      "SaleCondition_AdjLand  :  -0.0002658039066982809\n",
      "SaleCondition_Alloca  :  -0.000701750034455273\n",
      "SaleCondition_Family  :  0.002212389755994803\n",
      "SaleCondition_Normal  :  0.01529323988466147\n",
      "SaleCondition_Partial  :  0.12816758267852402\n",
      "MSZoning_C (all)  :  -0.0005891182205346457\n",
      "MSZoning_FV  :  0.002223154912191716\n",
      "MSZoning_RH  :  0.004028482097033437\n",
      "MSZoning_RL  :  0.09138259677437\n",
      "MSZoning_RM  :  0.12377446487429122\n",
      "Street_Grvl  :  0.0016521116037407912\n",
      "Street_Pave  :  0.0016521116037406802\n",
      "LotShape_IR1  :  0.07436020754676831\n",
      "LotShape_IR2  :  0.012774237234531638\n",
      "LotShape_IR3  :  0.0004923592140794186\n",
      "LotShape_Reg  :  0.09496906244789183\n",
      "LandContour_Bnk  :  0.009447000976193998\n",
      "LandContour_HLS  :  0.029506155546853208\n",
      "LandContour_Low  :  0.004518611431738928\n",
      "LandContour_Lvl  :  0.0012970462358318224\n",
      "Utilities_AllPub  :  -0.00018341391938259122\n",
      "Utilities_NoSeWa  :  -0.00018341391938259122\n",
      "LotConfig_Corner  :  -0.0001513563289048392\n",
      "LotConfig_CulDSac  :  0.024778374014804424\n",
      "LotConfig_FR2  :  -0.0008223484078542231\n",
      "LotConfig_FR3  :  -0.00014274671485869916\n",
      "LotConfig_Inside  :  0.006002297022020375\n",
      "LandSlope_Gtl  :  -0.0006957013462740579\n",
      "LandSlope_Mod  :  -0.0005566277446320544\n",
      "LandSlope_Sev  :  -9.823012759735406e-05\n",
      "Neighborhood_Blmngtn  :  -0.0008194657058386846\n",
      "Neighborhood_Blueste  :  -9.518493739424372e-05\n",
      "Neighborhood_BrDale  :  0.01390958551827981\n",
      "Neighborhood_BrkSide  :  0.016974641506834365\n",
      "Neighborhood_ClearCr  :  0.002688099711911862\n",
      "Neighborhood_CollgCr  :  0.0028896657893053845\n",
      "Neighborhood_Crawfor  :  0.003314733527527869\n",
      "Neighborhood_Edwards  :  0.02046868746499586\n",
      "Neighborhood_Gilbert  :  0.00063578202261938\n",
      "Neighborhood_IDOTRR  :  0.011208347330615265\n",
      "Neighborhood_MeadowV  :  0.024442211278350556\n",
      "Neighborhood_Mitchel  :  -0.00044096926014414173\n",
      "Neighborhood_NAmes  :  0.037367553155827855\n",
      "Neighborhood_NPkVill  :  0.001916970439709731\n",
      "Neighborhood_NWAmes  :  -0.000576719680276172\n",
      "Neighborhood_NoRidge  :  0.08632072360160437\n",
      "Neighborhood_NridgHt  :  0.1666125798511543\n",
      "Neighborhood_OldTown  :  0.05689425461618869\n",
      "Neighborhood_SWISU  :  0.0026665572192440257\n",
      "Neighborhood_Sawyer  :  0.005437072875114191\n",
      "Neighborhood_SawyerW  :  0.0003423727381431929\n",
      "Neighborhood_Somerst  :  0.02264472485760527\n",
      "Neighborhood_StoneBr  :  0.07934189590206031\n",
      "Neighborhood_Timber  :  0.013031496786751084\n",
      "Neighborhood_Veenker  :  -4.1379126913598796e-05\n",
      "Condition1_Artery  :  0.014872864055680668\n",
      "Condition1_Feedr  :  0.004070833397988527\n",
      "Condition1_Norm  :  -0.00015342383513439195\n",
      "Condition1_PosA  :  0.0005888062156794716\n",
      "Condition1_PosN  :  -0.0018497222533371271\n",
      "Condition1_RRAe  :  -0.0006998418776764659\n",
      "Condition1_RRAn  :  -0.0031180999589173197\n",
      "Condition1_RRNe  :  -0.0001661143802795806\n",
      "Condition1_RRNn  :  -0.00013124387405993865\n",
      "Condition2_Artery  :  -0.00021444447259644228\n",
      "Condition2_Feedr  :  -0.0002839307296511606\n",
      "Condition2_Norm  :  0.0015369958627177158\n",
      "Condition2_PosA  :  -0.00013436033793690072\n",
      "Condition2_PosN  :  -0.020376066948912364\n",
      "Condition2_RRAe  :  -0.00016891103564864451\n",
      "Condition2_RRAn  :  -0.00018358170811838545\n",
      "Condition2_RRNn  :  0.004616347154031364\n",
      "BldgType_1Fam  :  0.015326931740529681\n",
      "BldgType_2fmCon  :  0.009090136817848316\n",
      "BldgType_Duplex  :  0.009157715462548177\n",
      "BldgType_Twnhs  :  0.014838413559945198\n",
      "BldgType_TwnhsE  :  -0.00014779136617404376\n",
      "HouseStyle_1.5Fin  :  0.035637083563668015\n",
      "HouseStyle_1.5Unf  :  -0.00011974531597314098\n",
      "HouseStyle_1Story  :  -0.009832471587653435\n",
      "HouseStyle_2.5Fin  :  -0.0059818298539533465\n",
      "HouseStyle_2.5Unf  :  -0.00011995316316415483\n",
      "HouseStyle_2Story  :  0.024666352137331593\n",
      "HouseStyle_SFoyer  :  0.012407233520559946\n",
      "HouseStyle_SLvl  :  -0.0014118592162430943\n",
      "RoofStyle_Flat  :  -0.00012624375708703006\n",
      "RoofStyle_Gable  :  0.033436582806145254\n",
      "RoofStyle_Gambrel  :  0.003258092717997818\n",
      "RoofStyle_Hip  :  0.04468932635256884\n",
      "RoofStyle_Mansard  :  -0.0008305257837328828\n",
      "RoofStyle_Shed  :  -0.00014822874783870787\n",
      "RoofMatl_ClyTile  :  -0.00017712526626545433\n",
      "RoofMatl_CompShg  :  0.027483004651005505\n",
      "RoofMatl_Membran  :  -0.00015526468236415347\n",
      "RoofMatl_Metal  :  -0.00017162744392318352\n",
      "RoofMatl_Roll  :  -0.00018355491317390005\n",
      "RoofMatl_Tar&Grv  :  -0.0001586528306534163\n",
      "RoofMatl_WdShake  :  -0.0021553237394955627\n",
      "RoofMatl_WdShngl  :  0.07781288903474104\n",
      "Exterior1st_AsbShng  :  0.0087912465533454\n",
      "Exterior1st_AsphShn  :  -0.0001941387796347005\n",
      "Exterior1st_BrkComm  :  -0.000236654560992644\n",
      "Exterior1st_BrkFace  :  -0.0005958548888078674\n",
      "Exterior1st_CBlock  :  -0.00019269119253206846\n",
      "Exterior1st_CemntBd  :  -0.01353806284759451\n",
      "Exterior1st_HdBoard  :  -0.009968870901690963\n",
      "Exterior1st_ImStucc  :  -0.00014999255307457382\n",
      "Exterior1st_MetalSd  :  0.001733176248080115\n",
      "Exterior1st_Plywood  :  -0.0018971501057636342\n",
      "Exterior1st_Stone  :  -0.0005744672850414023\n",
      "Exterior1st_Stucco  :  0.0015079459756403013\n",
      "Exterior1st_VinylSd  :  0.060433175636669945\n",
      "Exterior1st_Wd Sdng  :  0.03500545310596803\n",
      "Exterior1st_WdShing  :  0.004654872644132668\n",
      "Exterior2nd_AsbShng  :  0.010709102377865154\n",
      "Exterior2nd_AsphShn  :  0.0007032909956418143\n",
      "Exterior2nd_Brk Cmn  :  3.678910852478179e-05\n",
      "Exterior2nd_BrkFace  :  -0.0040065397285409254\n",
      "Exterior2nd_CBlock  :  -0.00019269119253206846\n",
      "Exterior2nd_CmentBd  :  -0.008684857102981836\n",
      "Exterior2nd_HdBoard  :  -0.008394439544038734\n",
      "Exterior2nd_ImStucc  :  -0.017660166796311442\n",
      "Exterior2nd_MetalSd  :  0.001165950058859\n",
      "Exterior2nd_Other  :  -0.00013581206702872883\n",
      "Exterior2nd_Plywood  :  0.00043198630068153054\n",
      "Exterior2nd_Stone  :  -0.0027082413621286605\n",
      "Exterior2nd_Stucco  :  0.004457826835080558\n",
      "Exterior2nd_VinylSd  :  0.07294128160577351\n",
      "Exterior2nd_Wd Sdng  :  0.024217039366069115\n",
      "Exterior2nd_Wd Shng  :  0.002339031215696785\n",
      "MasVnrType_0  :  0.005520841437743895\n",
      "MasVnrType_BrkCmn  :  0.0018617576134575267\n",
      "MasVnrType_BrkFace  :  0.05020594645792931\n",
      "MasVnrType_None  :  0.16374241127289324\n",
      "MasVnrType_Stone  :  0.0977629736848139\n",
      "Foundation_BrkTil  :  0.048961584235622024\n",
      "Foundation_CBlock  :  0.11042060866681525\n",
      "Foundation_PConc  :  0.23188255534998847\n",
      "Foundation_Slab  :  0.005881821826679734\n",
      "Foundation_Stone  :  0.000258678239009158\n",
      "Foundation_Wood  :  -0.00016762835239525486\n",
      "Heating_Floor  :  -0.00020219734024440328\n",
      "Heating_GasA  :  0.00897646008162567\n",
      "Heating_GasW  :  -0.0009898487189290428\n",
      "Heating_Grav  :  0.016671264453440582\n",
      "Heating_OthW  :  -0.00020285850469003996\n",
      "Heating_Wall  :  0.0037019292092451694\n",
      "Electrical_FuseA  :  0.043432279422839566\n",
      "Electrical_FuseF  :  0.013190265436988978\n",
      "Electrical_FuseP  :  -0.0002468104634629764\n",
      "Electrical_Mix  :  -0.00017131757768873437\n",
      "Electrical_SBrkr  :  0.06524429523015496\n",
      "GarageType_2Types  :  3.114676640658676e-05\n",
      "GarageType_Attchd  :  0.136547426153366\n",
      "GarageType_Basment  :  -0.0004624830098420851\n",
      "GarageType_BuiltIn  :  0.00784289171488839\n",
      "GarageType_CarPort  :  -0.00039213630508538877\n",
      "GarageType_Detchd  :  0.14781157089309838\n",
      "GarageType_NA  :  0.04272254657384733\n",
      "SaleType_COD  :  0.010708317796990219\n",
      "SaleType_CWD  :  -0.004490493587036015\n",
      "SaleType_Con  :  -0.00012646491878864907\n",
      "SaleType_ConLD  :  0.0003895892955396718\n",
      "SaleType_ConLI  :  -0.01706555912524066\n",
      "SaleType_ConLw  :  -0.003102104080549673\n",
      "SaleType_New  :  0.12870116651723496\n",
      "SaleType_Oth  :  0.0029002307694795393\n",
      "SaleType_WD  :  0.03158041154239444\n"
     ]
    }
   ],
   "source": [
    "dicts = {}\n",
    "for col in X_train.columns:\n",
    "    pred = X_train[[col]]\n",
    "    pred2 = X_test[[col]]\n",
    "    linear_model.fit(pred, y_train)\n",
    "    y_pred = linear_model.predict(pred)\n",
    "    score = linear_model.score(pred2, y_test)\n",
    "    print(col,' : ', score)\n",
    "    dicts[col] = score"
   ]
  },
  {
   "cell_type": "code",
   "execution_count": 44,
   "metadata": {},
   "outputs": [],
   "source": [
    "DictsSorted = sorted(dicts.items(), key = lambda x: x[1], reverse = True)"
   ]
  },
  {
   "cell_type": "code",
   "execution_count": 45,
   "metadata": {},
   "outputs": [
    {
     "data": {
      "text/plain": [
       "[('OverallQual', 0.6454631197278844),\n",
       " ('ExterQual_Coded', 0.49917534712671535),\n",
       " ('GrLivArea', 0.4442896667814059),\n",
       " ('KitchenQual_Coded', 0.43970293723342646),\n",
       " ('TotalBsmtSF', 0.42491266111423953),\n",
       " ('1stFlrSF', 0.4166679048480356),\n",
       " ('GarageCars', 0.41193116659665807),\n",
       " ('GarageArea', 0.4073263621599066),\n",
       " ('BsmtQual_Coded', 0.3409700148262619),\n",
       " ('GarageFinish_Coded', 0.31628495442245047)]"
      ]
     },
     "execution_count": 45,
     "metadata": {},
     "output_type": "execute_result"
    }
   ],
   "source": [
    "DictsSorted[0:10]"
   ]
  },
  {
   "cell_type": "code",
   "execution_count": 46,
   "metadata": {},
   "outputs": [],
   "source": [
    "PredList = ['OverallQual','ExterQual_Coded', 'GrLivArea', 'KitchenQual_Coded', 'TotalBsmtSF', '1stFlrSF', 'GarageCars', 'GarageArea', 'BsmtQual_Coded', 'GarageFinish_Coded']\n",
    "pairs = [(a, b) for idx, a in enumerate(PredList) for b in PredList[idx + 1:]]"
   ]
  },
  {
   "cell_type": "code",
   "execution_count": 47,
   "metadata": {},
   "outputs": [
    {
     "data": {
      "text/plain": [
       "[('OverallQual', 'ExterQual_Coded'),\n",
       " ('OverallQual', 'GrLivArea'),\n",
       " ('OverallQual', 'KitchenQual_Coded'),\n",
       " ('OverallQual', 'TotalBsmtSF'),\n",
       " ('OverallQual', '1stFlrSF'),\n",
       " ('OverallQual', 'GarageCars'),\n",
       " ('OverallQual', 'GarageArea'),\n",
       " ('OverallQual', 'BsmtQual_Coded'),\n",
       " ('OverallQual', 'GarageFinish_Coded'),\n",
       " ('ExterQual_Coded', 'GrLivArea'),\n",
       " ('ExterQual_Coded', 'KitchenQual_Coded'),\n",
       " ('ExterQual_Coded', 'TotalBsmtSF'),\n",
       " ('ExterQual_Coded', '1stFlrSF'),\n",
       " ('ExterQual_Coded', 'GarageCars'),\n",
       " ('ExterQual_Coded', 'GarageArea'),\n",
       " ('ExterQual_Coded', 'BsmtQual_Coded'),\n",
       " ('ExterQual_Coded', 'GarageFinish_Coded'),\n",
       " ('GrLivArea', 'KitchenQual_Coded'),\n",
       " ('GrLivArea', 'TotalBsmtSF'),\n",
       " ('GrLivArea', '1stFlrSF'),\n",
       " ('GrLivArea', 'GarageCars'),\n",
       " ('GrLivArea', 'GarageArea'),\n",
       " ('GrLivArea', 'BsmtQual_Coded'),\n",
       " ('GrLivArea', 'GarageFinish_Coded'),\n",
       " ('KitchenQual_Coded', 'TotalBsmtSF'),\n",
       " ('KitchenQual_Coded', '1stFlrSF'),\n",
       " ('KitchenQual_Coded', 'GarageCars'),\n",
       " ('KitchenQual_Coded', 'GarageArea'),\n",
       " ('KitchenQual_Coded', 'BsmtQual_Coded'),\n",
       " ('KitchenQual_Coded', 'GarageFinish_Coded'),\n",
       " ('TotalBsmtSF', '1stFlrSF'),\n",
       " ('TotalBsmtSF', 'GarageCars'),\n",
       " ('TotalBsmtSF', 'GarageArea'),\n",
       " ('TotalBsmtSF', 'BsmtQual_Coded'),\n",
       " ('TotalBsmtSF', 'GarageFinish_Coded'),\n",
       " ('1stFlrSF', 'GarageCars'),\n",
       " ('1stFlrSF', 'GarageArea'),\n",
       " ('1stFlrSF', 'BsmtQual_Coded'),\n",
       " ('1stFlrSF', 'GarageFinish_Coded'),\n",
       " ('GarageCars', 'GarageArea'),\n",
       " ('GarageCars', 'BsmtQual_Coded'),\n",
       " ('GarageCars', 'GarageFinish_Coded'),\n",
       " ('GarageArea', 'BsmtQual_Coded'),\n",
       " ('GarageArea', 'GarageFinish_Coded'),\n",
       " ('BsmtQual_Coded', 'GarageFinish_Coded')]"
      ]
     },
     "execution_count": 47,
     "metadata": {},
     "output_type": "execute_result"
    }
   ],
   "source": [
    "pairs"
   ]
  },
  {
   "cell_type": "markdown",
   "metadata": {},
   "source": [
    "## 45 Models using every possible pair of the top 10 predictors"
   ]
  },
  {
   "cell_type": "code",
   "execution_count": 48,
   "metadata": {},
   "outputs": [
    {
     "name": "stdout",
     "output_type": "stream",
     "text": [
      "OverallQual & ExterQual_Coded:  0.6680147343521529\n"
     ]
    }
   ],
   "source": [
    "#1\n",
    "linear_model.fit(X_train[['OverallQual', 'ExterQual_Coded']], y_train)\n",
    "linear_model.predict(X_train[['OverallQual', 'ExterQual_Coded']])\n",
    "score = linear_model.score(X_test[['OverallQual', 'ExterQual_Coded']], y_test)\n",
    "print('OverallQual & ExterQual_Coded: ',score)"
   ]
  },
  {
   "cell_type": "code",
   "execution_count": 49,
   "metadata": {},
   "outputs": [
    {
     "name": "stdout",
     "output_type": "stream",
     "text": [
      "OverallQual & GrLivArea:  0.6921986779040231\n"
     ]
    }
   ],
   "source": [
    "#2\n",
    "linear_model.fit(X_train[['OverallQual', 'GrLivArea']], y_train)\n",
    "linear_model.predict(X_train[['OverallQual', 'GrLivArea']])\n",
    "score = linear_model.score(X_test[['OverallQual', 'GrLivArea']], y_test)\n",
    "print('OverallQual & GrLivArea: ',score)"
   ]
  },
  {
   "cell_type": "code",
   "execution_count": 50,
   "metadata": {},
   "outputs": [
    {
     "name": "stdout",
     "output_type": "stream",
     "text": [
      "OverallQual & KitchenQual_Coded:  0.673086953607461\n"
     ]
    }
   ],
   "source": [
    "#3\n",
    "linear_model.fit(X_train[['OverallQual', 'KitchenQual_Coded']], y_train)\n",
    "linear_model.predict(X_train[['OverallQual', 'KitchenQual_Coded']])\n",
    "score = linear_model.score(X_test[['OverallQual', 'KitchenQual_Coded']], y_test)\n",
    "print('OverallQual & KitchenQual_Coded: ',score)"
   ]
  },
  {
   "cell_type": "code",
   "execution_count": 51,
   "metadata": {},
   "outputs": [
    {
     "name": "stdout",
     "output_type": "stream",
     "text": [
      "OverallQual & TotalBsmtSF:  0.706791108152437\n"
     ]
    }
   ],
   "source": [
    "#4\n",
    "linear_model.fit(X_train[['OverallQual', 'TotalBsmtSF']], y_train)\n",
    "linear_model.predict(X_train[['OverallQual', 'TotalBsmtSF']])\n",
    "score = linear_model.score(X_test[['OverallQual', 'TotalBsmtSF']], y_test)\n",
    "print('OverallQual & TotalBsmtSF: ',score)"
   ]
  },
  {
   "cell_type": "code",
   "execution_count": 52,
   "metadata": {},
   "outputs": [
    {
     "name": "stdout",
     "output_type": "stream",
     "text": [
      "OverallQual & 1stFlrSF:  0.7173882583039418\n"
     ]
    }
   ],
   "source": [
    "#5\n",
    "linear_model.fit(X_train[['OverallQual', '1stFlrSF']], y_train)\n",
    "linear_model.predict(X_train[['OverallQual', '1stFlrSF']])\n",
    "score = linear_model.score(X_test[['OverallQual', '1stFlrSF']], y_test)\n",
    "print('OverallQual & 1stFlrSF: ',score)"
   ]
  },
  {
   "cell_type": "code",
   "execution_count": 53,
   "metadata": {},
   "outputs": [
    {
     "name": "stdout",
     "output_type": "stream",
     "text": [
      "OverallQual & GarageCars:  0.6723247870365776\n"
     ]
    }
   ],
   "source": [
    "#6\n",
    "linear_model.fit(X_train[['OverallQual', 'GarageCars']], y_train)\n",
    "linear_model.predict(X_train[['OverallQual', 'GarageCars']])\n",
    "score = linear_model.score(X_test[['OverallQual', 'GarageCars']], y_test)\n",
    "print('OverallQual & GarageCars: ',score)"
   ]
  },
  {
   "cell_type": "code",
   "execution_count": 54,
   "metadata": {},
   "outputs": [
    {
     "name": "stdout",
     "output_type": "stream",
     "text": [
      "OverallQual & GarageArea:  0.6813946935673894\n"
     ]
    }
   ],
   "source": [
    "#7\n",
    "linear_model.fit(X_train[['OverallQual', 'GarageArea']], y_train)\n",
    "linear_model.predict(X_train[['OverallQual', 'GarageArea']])\n",
    "score = linear_model.score(X_test[['OverallQual', 'GarageArea']], y_test)\n",
    "print('OverallQual & GarageArea: ',score)"
   ]
  },
  {
   "cell_type": "code",
   "execution_count": 55,
   "metadata": {},
   "outputs": [
    {
     "name": "stdout",
     "output_type": "stream",
     "text": [
      "OverallQual & BsmtQual_Coded:  0.6566660974647345\n"
     ]
    }
   ],
   "source": [
    "#8\n",
    "linear_model.fit(X_train[['OverallQual', 'BsmtQual_Coded']], y_train)\n",
    "linear_model.predict(X_train[['OverallQual', 'BsmtQual_Coded']])\n",
    "score = linear_model.score(X_test[['OverallQual', 'BsmtQual_Coded']], y_test)\n",
    "print('OverallQual & BsmtQual_Coded: ',score)"
   ]
  },
  {
   "cell_type": "code",
   "execution_count": 56,
   "metadata": {},
   "outputs": [
    {
     "name": "stdout",
     "output_type": "stream",
     "text": [
      "OverallQual & GarageFinish_Coded:  0.6519020465859777\n"
     ]
    }
   ],
   "source": [
    "#9\n",
    "linear_model.fit(X_train[['OverallQual', 'GarageFinish_Coded']], y_train)\n",
    "linear_model.predict(X_train[['OverallQual', 'GarageFinish_Coded']])\n",
    "score = linear_model.score(X_test[['OverallQual', 'GarageFinish_Coded']], y_test)\n",
    "print('OverallQual & GarageFinish_Coded: ',score)"
   ]
  },
  {
   "cell_type": "code",
   "execution_count": 57,
   "metadata": {},
   "outputs": [
    {
     "name": "stdout",
     "output_type": "stream",
     "text": [
      "ExterQual_Coded & GrLivArea:  0.6347813176873235\n"
     ]
    }
   ],
   "source": [
    "#10\n",
    "linear_model.fit(X_train[['ExterQual_Coded', 'GrLivArea']], y_train)\n",
    "linear_model.predict(X_train[['ExterQual_Coded', 'GrLivArea']])\n",
    "score = linear_model.score(X_test[['ExterQual_Coded', 'GrLivArea']], y_test)\n",
    "print('ExterQual_Coded & GrLivArea: ',score)"
   ]
  },
  {
   "cell_type": "code",
   "execution_count": 58,
   "metadata": {},
   "outputs": [
    {
     "name": "stdout",
     "output_type": "stream",
     "text": [
      "ExterQual_Coded & KitchenQual_Coded:  0.5614795448182023\n"
     ]
    }
   ],
   "source": [
    "#11\n",
    "linear_model.fit(X_train[['ExterQual_Coded', 'KitchenQual_Coded']], y_train)\n",
    "linear_model.predict(X_train[['ExterQual_Coded', 'KitchenQual_Coded']])\n",
    "score = linear_model.score(X_test[['ExterQual_Coded', 'KitchenQual_Coded']], y_test)\n",
    "print('ExterQual_Coded & KitchenQual_Coded: ',score)"
   ]
  },
  {
   "cell_type": "code",
   "execution_count": 59,
   "metadata": {},
   "outputs": [
    {
     "name": "stdout",
     "output_type": "stream",
     "text": [
      "ExterQual_Coded & TotalBsmtSF:  0.623021198005789\n"
     ]
    }
   ],
   "source": [
    "#12\n",
    "linear_model.fit(X_train[['ExterQual_Coded', 'TotalBsmtSF']], y_train)\n",
    "linear_model.predict(X_train[['ExterQual_Coded', 'TotalBsmtSF']])\n",
    "score = linear_model.score(X_test[['ExterQual_Coded', 'TotalBsmtSF']], y_test)\n",
    "print('ExterQual_Coded & TotalBsmtSF: ',score)"
   ]
  },
  {
   "cell_type": "code",
   "execution_count": 60,
   "metadata": {},
   "outputs": [
    {
     "name": "stdout",
     "output_type": "stream",
     "text": [
      "ExterQual_Coded & 1stFlrSF:  0.6364054863411375\n"
     ]
    }
   ],
   "source": [
    "#13\n",
    "linear_model.fit(X_train[['ExterQual_Coded', '1stFlrSF']], y_train)\n",
    "linear_model.predict(X_train[['ExterQual_Coded', '1stFlrSF']])\n",
    "score = linear_model.score(X_test[['ExterQual_Coded', '1stFlrSF']], y_test)\n",
    "print('ExterQual_Coded & 1stFlrSF: ',score)"
   ]
  },
  {
   "cell_type": "code",
   "execution_count": 61,
   "metadata": {},
   "outputs": [
    {
     "name": "stdout",
     "output_type": "stream",
     "text": [
      "ExterQual_Coded & GarageCars:  0.5958751919482281\n"
     ]
    }
   ],
   "source": [
    "#14\n",
    "linear_model.fit(X_train[['ExterQual_Coded', 'GarageCars']], y_train)\n",
    "linear_model.predict(X_train[['ExterQual_Coded', 'GarageCars']])\n",
    "score = linear_model.score(X_test[['ExterQual_Coded', 'GarageCars']], y_test)\n",
    "print('ExterQual_Coded & GarageCars: ',score)"
   ]
  },
  {
   "cell_type": "code",
   "execution_count": 62,
   "metadata": {},
   "outputs": [
    {
     "name": "stdout",
     "output_type": "stream",
     "text": [
      "ExterQual_Coded & GarageArea:  0.5993679075736751\n"
     ]
    }
   ],
   "source": [
    "#15\n",
    "linear_model.fit(X_train[['ExterQual_Coded', 'GarageArea']], y_train)\n",
    "linear_model.predict(X_train[['ExterQual_Coded', 'GarageArea']])\n",
    "score = linear_model.score(X_test[['ExterQual_Coded', 'GarageArea']], y_test)\n",
    "print('ExterQual_Coded & GarageArea: ',score)"
   ]
  },
  {
   "cell_type": "code",
   "execution_count": 63,
   "metadata": {},
   "outputs": [
    {
     "name": "stdout",
     "output_type": "stream",
     "text": [
      "ExterQual_Coded & BsmtQual_Coded:  0.5450531167248083\n"
     ]
    }
   ],
   "source": [
    "#16\n",
    "linear_model.fit(X_train[['ExterQual_Coded', 'BsmtQual_Coded']], y_train)\n",
    "linear_model.predict(X_train[['ExterQual_Coded', 'BsmtQual_Coded']])\n",
    "score = linear_model.score(X_test[['ExterQual_Coded', 'BsmtQual_Coded']], y_test)\n",
    "print('ExterQual_Coded & BsmtQual_Coded: ',score)"
   ]
  },
  {
   "cell_type": "code",
   "execution_count": 64,
   "metadata": {},
   "outputs": [
    {
     "name": "stdout",
     "output_type": "stream",
     "text": [
      "ExterQual_Coded & GarageFinish_Coded:  0.5502972235709231\n"
     ]
    }
   ],
   "source": [
    "#17\n",
    "linear_model.fit(X_train[['ExterQual_Coded', 'GarageFinish_Coded']], y_train)\n",
    "linear_model.predict(X_train[['ExterQual_Coded', 'GarageFinish_Coded']])\n",
    "score = linear_model.score(X_test[['ExterQual_Coded', 'GarageFinish_Coded']], y_test)\n",
    "print('ExterQual_Coded & GarageFinish_Coded: ',score)"
   ]
  },
  {
   "cell_type": "code",
   "execution_count": 65,
   "metadata": {},
   "outputs": [
    {
     "name": "stdout",
     "output_type": "stream",
     "text": [
      "GrLivArea KitchenQual_Coded:  0.6069024711847932\n"
     ]
    }
   ],
   "source": [
    "#18\n",
    "linear_model.fit(X_train[['GrLivArea', 'KitchenQual_Coded']], y_train)\n",
    "linear_model.predict(X_train[['GrLivArea', 'KitchenQual_Coded']])\n",
    "score = linear_model.score(X_test[['GrLivArea', 'KitchenQual_Coded']], y_test)\n",
    "print('GrLivArea', 'KitchenQual_Coded: ',score)"
   ]
  },
  {
   "cell_type": "code",
   "execution_count": 66,
   "metadata": {},
   "outputs": [
    {
     "name": "stdout",
     "output_type": "stream",
     "text": [
      "GrLivArea & TotalBsmtSF:  0.5711932027269213\n"
     ]
    }
   ],
   "source": [
    "#19\n",
    "linear_model.fit(X_train[['GrLivArea', 'TotalBsmtSF']], y_train)\n",
    "linear_model.predict(X_train[['GrLivArea', 'TotalBsmtSF']])\n",
    "score = linear_model.score(X_test[['GrLivArea', 'TotalBsmtSF']], y_test)\n",
    "print('GrLivArea & TotalBsmtSF: ',score)"
   ]
  },
  {
   "cell_type": "code",
   "execution_count": 67,
   "metadata": {},
   "outputs": [
    {
     "name": "stdout",
     "output_type": "stream",
     "text": [
      "GrLivArea & 1stFlrSF:  0.5248920905023893\n"
     ]
    }
   ],
   "source": [
    "#20\n",
    "linear_model.fit(X_train[['GrLivArea', '1stFlrSF']], y_train)\n",
    "linear_model.predict(X_train[['GrLivArea', '1stFlrSF']])\n",
    "score = linear_model.score(X_test[['GrLivArea', '1stFlrSF']], y_test)\n",
    "print('GrLivArea & 1stFlrSF: ',score)"
   ]
  },
  {
   "cell_type": "code",
   "execution_count": 68,
   "metadata": {},
   "outputs": [
    {
     "name": "stdout",
     "output_type": "stream",
     "text": [
      "GrLivArea & GarageCars:  0.5966866179721507\n"
     ]
    }
   ],
   "source": [
    "#21\n",
    "linear_model.fit(X_train[['GrLivArea', 'GarageCars']], y_train)\n",
    "linear_model.predict(X_train[['GrLivArea', 'GarageCars']])\n",
    "score = linear_model.score(X_test[['GrLivArea', 'GarageCars']], y_test)\n",
    "print('GrLivArea & GarageCars: ',score)"
   ]
  },
  {
   "cell_type": "code",
   "execution_count": 69,
   "metadata": {},
   "outputs": [
    {
     "name": "stdout",
     "output_type": "stream",
     "text": [
      "GrLivArea & GarageArea:  0.59607195218783\n"
     ]
    }
   ],
   "source": [
    "#22\n",
    "linear_model.fit(X_train[['GrLivArea', 'GarageArea']], y_train)\n",
    "linear_model.predict(X_train[['GrLivArea', 'GarageArea']])\n",
    "score = linear_model.score(X_test[['GrLivArea', 'GarageArea']], y_test)\n",
    "print('GrLivArea & GarageArea: ',score)"
   ]
  },
  {
   "cell_type": "code",
   "execution_count": 70,
   "metadata": {},
   "outputs": [
    {
     "name": "stdout",
     "output_type": "stream",
     "text": [
      "GrLivArea & BsmtQual_Coded:  0.5812685358678369\n"
     ]
    }
   ],
   "source": [
    "#23\n",
    "linear_model.fit(X_train[['GrLivArea', 'BsmtQual_Coded']], y_train)\n",
    "linear_model.predict(X_train[['GrLivArea', 'BsmtQual_Coded']])\n",
    "score = linear_model.score(X_test[['GrLivArea', 'BsmtQual_Coded']], y_test)\n",
    "print('GrLivArea & BsmtQual_Coded: ',score)"
   ]
  },
  {
   "cell_type": "code",
   "execution_count": 71,
   "metadata": {},
   "outputs": [
    {
     "name": "stdout",
     "output_type": "stream",
     "text": [
      "GrLivArea & GarageFinish_Coded:  0.5443956805719437\n"
     ]
    }
   ],
   "source": [
    "#24\n",
    "linear_model.fit(X_train[['GrLivArea', 'GarageFinish_Coded']], y_train)\n",
    "linear_model.predict(X_train[['GrLivArea', 'GarageFinish_Coded']])\n",
    "score = linear_model.score(X_test[['GrLivArea', 'GarageFinish_Coded']], y_test)\n",
    "print('GrLivArea & GarageFinish_Coded: ',score)"
   ]
  },
  {
   "cell_type": "code",
   "execution_count": 72,
   "metadata": {},
   "outputs": [
    {
     "name": "stdout",
     "output_type": "stream",
     "text": [
      "KitchenQual_Coded & TotalBsmtSF:  0.5990455792408331\n"
     ]
    }
   ],
   "source": [
    "#25\n",
    "linear_model.fit(X_train[['KitchenQual_Coded', 'TotalBsmtSF']], y_train)\n",
    "linear_model.predict(X_train[['KitchenQual_Coded', 'TotalBsmtSF']])\n",
    "score = linear_model.score(X_test[['KitchenQual_Coded', 'TotalBsmtSF']], y_test)\n",
    "print('KitchenQual_Coded & TotalBsmtSF: ',score)"
   ]
  },
  {
   "cell_type": "code",
   "execution_count": 73,
   "metadata": {},
   "outputs": [
    {
     "name": "stdout",
     "output_type": "stream",
     "text": [
      "KitchenQual_Coded & 1stFlrSF:  0.5968792254270976\n"
     ]
    }
   ],
   "source": [
    "#26\n",
    "linear_model.fit(X_train[['KitchenQual_Coded', '1stFlrSF']], y_train)\n",
    "linear_model.predict(X_train[['KitchenQual_Coded', '1stFlrSF']])\n",
    "score = linear_model.score(X_test[['KitchenQual_Coded', '1stFlrSF']], y_test)\n",
    "print('KitchenQual_Coded & 1stFlrSF: ',score)"
   ]
  },
  {
   "cell_type": "code",
   "execution_count": 74,
   "metadata": {},
   "outputs": [
    {
     "name": "stdout",
     "output_type": "stream",
     "text": [
      "KitchenQual_Coded & GarageCars:  0.567833521710212\n"
     ]
    }
   ],
   "source": [
    "#27\n",
    "linear_model.fit(X_train[['KitchenQual_Coded', 'GarageCars']], y_train)\n",
    "linear_model.predict(X_train[['KitchenQual_Coded', 'GarageCars']])\n",
    "score = linear_model.score(X_test[['KitchenQual_Coded', 'GarageCars']], y_test)\n",
    "print('KitchenQual_Coded & GarageCars: ',score)"
   ]
  },
  {
   "cell_type": "code",
   "execution_count": 75,
   "metadata": {},
   "outputs": [
    {
     "name": "stdout",
     "output_type": "stream",
     "text": [
      "KitchenQual_Coded & GarageArea:  0.557445318929163\n"
     ]
    }
   ],
   "source": [
    "#28\n",
    "linear_model.fit(X_train[['KitchenQual_Coded', 'GarageArea']], y_train)\n",
    "linear_model.predict(X_train[['KitchenQual_Coded', 'GarageArea']])\n",
    "score = linear_model.score(X_test[['KitchenQual_Coded', 'GarageArea']], y_test)\n",
    "print('KitchenQual_Coded & GarageArea: ',score)"
   ]
  },
  {
   "cell_type": "code",
   "execution_count": 76,
   "metadata": {},
   "outputs": [
    {
     "name": "stdout",
     "output_type": "stream",
     "text": [
      "KitchenQual_Coded & BsmtQual_Coded:  0.5328594837350534\n"
     ]
    }
   ],
   "source": [
    "#29\n",
    "linear_model.fit(X_train[['KitchenQual_Coded', 'BsmtQual_Coded']], y_train)\n",
    "linear_model.predict(X_train[['KitchenQual_Coded', 'BsmtQual_Coded']])\n",
    "score = linear_model.score(X_test[['KitchenQual_Coded', 'BsmtQual_Coded']], y_test)\n",
    "print('KitchenQual_Coded & BsmtQual_Coded: ',score)"
   ]
  },
  {
   "cell_type": "code",
   "execution_count": 77,
   "metadata": {},
   "outputs": [
    {
     "name": "stdout",
     "output_type": "stream",
     "text": [
      "KitchenQual_Coded & GarageFinish_Coded:  0.5254571772774448\n"
     ]
    }
   ],
   "source": [
    "#30\n",
    "linear_model.fit(X_train[['KitchenQual_Coded', 'GarageFinish_Coded']], y_train)\n",
    "linear_model.predict(X_train[['KitchenQual_Coded', 'GarageFinish_Coded']])\n",
    "score = linear_model.score(X_test[['KitchenQual_Coded', 'GarageFinish_Coded']], y_test)\n",
    "print('KitchenQual_Coded & GarageFinish_Coded: ',score)"
   ]
  },
  {
   "cell_type": "code",
   "execution_count": 78,
   "metadata": {},
   "outputs": [
    {
     "name": "stdout",
     "output_type": "stream",
     "text": [
      "TotalBsmtSF & 1stFlrSF:  0.45421260952689835\n"
     ]
    }
   ],
   "source": [
    "#31\n",
    "linear_model.fit(X_train[['TotalBsmtSF', '1stFlrSF']], y_train)\n",
    "linear_model.predict(X_train[['TotalBsmtSF', '1stFlrSF']])\n",
    "score = linear_model.score(X_test[['TotalBsmtSF', '1stFlrSF']], y_test)\n",
    "print('TotalBsmtSF & 1stFlrSF: ',score)"
   ]
  },
  {
   "cell_type": "code",
   "execution_count": 79,
   "metadata": {},
   "outputs": [
    {
     "name": "stdout",
     "output_type": "stream",
     "text": [
      "TotalBsmtSF & GarageCars:  0.5573159943855633\n"
     ]
    }
   ],
   "source": [
    "#32\n",
    "linear_model.fit(X_train[['TotalBsmtSF', 'GarageCars']], y_train)\n",
    "linear_model.predict(X_train[['TotalBsmtSF', 'GarageCars']])\n",
    "score = linear_model.score(X_test[['TotalBsmtSF', 'GarageCars']], y_test)\n",
    "print('TotalBsmtSF & GarageCars: ',score)"
   ]
  },
  {
   "cell_type": "code",
   "execution_count": 80,
   "metadata": {},
   "outputs": [
    {
     "name": "stdout",
     "output_type": "stream",
     "text": [
      "TotalBsmtSF & GarageArea:  0.5381252811630992\n"
     ]
    }
   ],
   "source": [
    "#33\n",
    "linear_model.fit(X_train[['TotalBsmtSF', 'GarageArea']], y_train)\n",
    "linear_model.predict(X_train[['TotalBsmtSF', 'GarageArea']])\n",
    "score = linear_model.score(X_test[['TotalBsmtSF', 'GarageArea']], y_test)\n",
    "print('TotalBsmtSF & GarageArea: ',score)"
   ]
  },
  {
   "cell_type": "code",
   "execution_count": 81,
   "metadata": {},
   "outputs": [
    {
     "name": "stdout",
     "output_type": "stream",
     "text": [
      "TotalBsmtSF & BsmtQual_Coded:  0.5012165203950788\n"
     ]
    }
   ],
   "source": [
    "#34\n",
    "linear_model.fit(X_train[['TotalBsmtSF', 'BsmtQual_Coded']], y_train)\n",
    "linear_model.predict(X_train[['TotalBsmtSF', 'BsmtQual_Coded']])\n",
    "score = linear_model.score(X_test[['TotalBsmtSF', 'BsmtQual_Coded']], y_test)\n",
    "print('TotalBsmtSF & BsmtQual_Coded: ',score)"
   ]
  },
  {
   "cell_type": "code",
   "execution_count": 82,
   "metadata": {},
   "outputs": [
    {
     "name": "stdout",
     "output_type": "stream",
     "text": [
      "TotalBsmtSF & GarageFinish_Coded:  0.5474747523224235\n"
     ]
    }
   ],
   "source": [
    "#35\n",
    "linear_model.fit(X_train[['TotalBsmtSF', 'GarageFinish_Coded']], y_train)\n",
    "linear_model.predict(X_train[['TotalBsmtSF', 'GarageFinish_Coded']])\n",
    "score = linear_model.score(X_test[['TotalBsmtSF', 'GarageFinish_Coded']], y_test)\n",
    "print('TotalBsmtSF & GarageFinish_Coded: ',score)"
   ]
  },
  {
   "cell_type": "code",
   "execution_count": 83,
   "metadata": {},
   "outputs": [
    {
     "name": "stdout",
     "output_type": "stream",
     "text": [
      "1stFlrSF & GarageCars:  0.5591145233874982\n"
     ]
    }
   ],
   "source": [
    "#36\n",
    "linear_model.fit(X_train[['1stFlrSF', 'GarageCars']], y_train)\n",
    "linear_model.predict(X_train[['1stFlrSF', 'GarageCars']])\n",
    "score = linear_model.score(X_test[['1stFlrSF', 'GarageCars']], y_test)\n",
    "print('1stFlrSF & GarageCars: ',score)"
   ]
  },
  {
   "cell_type": "code",
   "execution_count": 84,
   "metadata": {},
   "outputs": [
    {
     "name": "stdout",
     "output_type": "stream",
     "text": [
      "1stFlrSF & GarageArea:  0.5422825807187134\n"
     ]
    }
   ],
   "source": [
    "#37\n",
    "linear_model.fit(X_train[['1stFlrSF', 'GarageArea']], y_train)\n",
    "linear_model.predict(X_train[['1stFlrSF', 'GarageArea']])\n",
    "score = linear_model.score(X_test[['1stFlrSF', 'GarageArea']], y_test)\n",
    "print('1stFlrSF & GarageArea: ',score)"
   ]
  },
  {
   "cell_type": "code",
   "execution_count": 85,
   "metadata": {},
   "outputs": [
    {
     "name": "stdout",
     "output_type": "stream",
     "text": [
      "1stFlrSF & BsmtQual_Coded:  0.5732205904418872\n"
     ]
    }
   ],
   "source": [
    "#38\n",
    "linear_model.fit(X_train[['1stFlrSF', 'BsmtQual_Coded']], y_train)\n",
    "linear_model.predict(X_train[['1stFlrSF', 'BsmtQual_Coded']])\n",
    "score = linear_model.score(X_test[['1stFlrSF', 'BsmtQual_Coded']], y_test)\n",
    "print('1stFlrSF & BsmtQual_Coded: ',score)"
   ]
  },
  {
   "cell_type": "code",
   "execution_count": 86,
   "metadata": {},
   "outputs": [
    {
     "name": "stdout",
     "output_type": "stream",
     "text": [
      "1stFlrSF & GarageFinish_Coded:  0.5400153833741016\n"
     ]
    }
   ],
   "source": [
    "#39\n",
    "linear_model.fit(X_train[['1stFlrSF', 'GarageFinish_Coded']], y_train)\n",
    "linear_model.predict(X_train[['1stFlrSF', 'GarageFinish_Coded']])\n",
    "score = linear_model.score(X_test[['1stFlrSF', 'GarageFinish_Coded']], y_test)\n",
    "print('1stFlrSF & GarageFinish_Coded: ',score)"
   ]
  },
  {
   "cell_type": "code",
   "execution_count": 87,
   "metadata": {},
   "outputs": [
    {
     "name": "stdout",
     "output_type": "stream",
     "text": [
      "GarageCars & GarageArea:  0.43290484443359156\n"
     ]
    }
   ],
   "source": [
    "#40\n",
    "linear_model.fit(X_train[['GarageCars', 'GarageArea']], y_train)\n",
    "linear_model.predict(X_train[['GarageCars', 'GarageArea']])\n",
    "score = linear_model.score(X_test[['GarageCars', 'GarageArea']], y_test)\n",
    "print('GarageCars & GarageArea: ',score)"
   ]
  },
  {
   "cell_type": "code",
   "execution_count": 88,
   "metadata": {},
   "outputs": [
    {
     "name": "stdout",
     "output_type": "stream",
     "text": [
      "GarageCars & BsmtQual_Coded:  0.5190330795524087\n"
     ]
    }
   ],
   "source": [
    "#41\n",
    "linear_model.fit(X_train[['GarageCars', 'BsmtQual_Coded']], y_train)\n",
    "linear_model.predict(X_train[['GarageCars', 'BsmtQual_Coded']])\n",
    "score = linear_model.score(X_test[['GarageCars', 'BsmtQual_Coded']], y_test)\n",
    "print('GarageCars & BsmtQual_Coded: ',score)"
   ]
  },
  {
   "cell_type": "code",
   "execution_count": 89,
   "metadata": {},
   "outputs": [
    {
     "name": "stdout",
     "output_type": "stream",
     "text": [
      "GarageCars & GarageFinish_Coded:  0.45935281097583014\n"
     ]
    }
   ],
   "source": [
    "#42\n",
    "linear_model.fit(X_train[['GarageCars', 'GarageFinish_Coded']], y_train)\n",
    "linear_model.predict(X_train[['GarageCars', 'GarageFinish_Coded']])\n",
    "score = linear_model.score(X_test[['GarageCars', 'GarageFinish_Coded']], y_test)\n",
    "print('GarageCars & GarageFinish_Coded: ',score)"
   ]
  },
  {
   "cell_type": "code",
   "execution_count": 90,
   "metadata": {},
   "outputs": [
    {
     "name": "stdout",
     "output_type": "stream",
     "text": [
      "GarageArea & BsmtQual_Coded:  0.5228645856492856\n"
     ]
    }
   ],
   "source": [
    "#43\n",
    "linear_model.fit(X_train[['GarageArea', 'BsmtQual_Coded']], y_train)\n",
    "linear_model.predict(X_train[['GarageArea', 'BsmtQual_Coded']])\n",
    "score = linear_model.score(X_test[['GarageArea', 'BsmtQual_Coded']], y_test)\n",
    "print('GarageArea & BsmtQual_Coded: ',score)"
   ]
  },
  {
   "cell_type": "code",
   "execution_count": 91,
   "metadata": {},
   "outputs": [
    {
     "name": "stdout",
     "output_type": "stream",
     "text": [
      "GarageArea & GarageFinish_Coded:  0.4757489497506129\n"
     ]
    }
   ],
   "source": [
    "#44\n",
    "linear_model.fit(X_train[['GarageArea', 'GarageFinish_Coded']], y_train)\n",
    "linear_model.predict(X_train[['GarageArea', 'GarageFinish_Coded']])\n",
    "score = linear_model.score(X_test[['GarageArea', 'GarageFinish_Coded']], y_test)\n",
    "print('GarageArea & GarageFinish_Coded: ',score)"
   ]
  },
  {
   "cell_type": "code",
   "execution_count": 92,
   "metadata": {},
   "outputs": [
    {
     "name": "stdout",
     "output_type": "stream",
     "text": [
      "BsmtQual_Coded & GarageFinish_Coded:  0.44048257366049814\n"
     ]
    }
   ],
   "source": [
    "#45\n",
    "linear_model.fit(X_train[['BsmtQual_Coded', 'GarageFinish_Coded']], y_train)\n",
    "linear_model.predict(X_train[['BsmtQual_Coded', 'GarageFinish_Coded']])\n",
    "score = linear_model.score(X_test[['BsmtQual_Coded', 'GarageFinish_Coded']], y_test)\n",
    "print('BsmtQual_Coded & GarageFinish_Coded: ',score)"
   ]
  },
  {
   "cell_type": "markdown",
   "metadata": {},
   "source": [
    "## Model using all features"
   ]
  },
  {
   "cell_type": "code",
   "execution_count": 93,
   "metadata": {},
   "outputs": [
    {
     "data": {
      "text/plain": [
       "0.8127547098528047"
      ]
     },
     "execution_count": 93,
     "metadata": {},
     "output_type": "execute_result"
    }
   ],
   "source": [
    "linear_model.fit(X_train, y_train)\n",
    "y_pred2 = linear_model.predict(X_test)\n",
    "linear_model.score(X_test, y_test)"
   ]
  },
  {
   "cell_type": "code",
   "execution_count": 94,
   "metadata": {},
   "outputs": [
    {
     "name": "stdout",
     "output_type": "stream",
     "text": [
      "0.7534186442105405\n"
     ]
    }
   ],
   "source": [
    "linear_model.fit(X_train[['BsmtQual_Coded', 'GarageFinish_Coded', 'OverallQual', 'ExterQual_Coded', 'GrLivArea', 'KitchenQual_Coded', 'TotalBsmtSF', '1stFlrSF', 'TotalBsmtSF', '1stFlrSF']], y_train)\n",
    "linear_model.predict(X_train[['BsmtQual_Coded', 'GarageFinish_Coded', 'OverallQual', 'ExterQual_Coded', 'GrLivArea', 'KitchenQual_Coded', 'TotalBsmtSF', '1stFlrSF', 'TotalBsmtSF', '1stFlrSF']])\n",
    "score = linear_model.score(X_test[['BsmtQual_Coded', 'GarageFinish_Coded', 'OverallQual', 'ExterQual_Coded', 'GrLivArea', 'KitchenQual_Coded', 'TotalBsmtSF', '1stFlrSF', 'TotalBsmtSF', '1stFlrSF']], y_test)\n",
    "print(score)"
   ]
  },
  {
   "cell_type": "code",
   "execution_count": 95,
   "metadata": {},
   "outputs": [],
   "source": [
    "neigh = KNeighborsClassifier(n_neighbors=5)"
   ]
  },
  {
   "cell_type": "code",
   "execution_count": 96,
   "metadata": {},
   "outputs": [
    {
     "data": {
      "text/plain": [
       "KNeighborsClassifier(algorithm='auto', leaf_size=30, metric='minkowski',\n",
       "                     metric_params=None, n_jobs=None, n_neighbors=5, p=2,\n",
       "                     weights='uniform')"
      ]
     },
     "execution_count": 96,
     "metadata": {},
     "output_type": "execute_result"
    }
   ],
   "source": [
    "neigh.fit(X_train, y_train)"
   ]
  },
  {
   "cell_type": "code",
   "execution_count": 97,
   "metadata": {},
   "outputs": [],
   "source": [
    "y_pred = neigh.predict(X_test)"
   ]
  },
  {
   "cell_type": "code",
   "execution_count": 100,
   "metadata": {},
   "outputs": [
    {
     "name": "stdout",
     "output_type": "stream",
     "text": [
      "0.00684931506849315\n"
     ]
    }
   ],
   "source": [
    "print(metrics.accuracy_score(y_test, y_pred))"
   ]
  },
  {
   "cell_type": "code",
   "execution_count": 101,
   "metadata": {},
   "outputs": [
    {
     "name": "stdout",
     "output_type": "stream",
     "text": [
      "0.003424657534246575\n"
     ]
    }
   ],
   "source": [
    "neigh = KNeighborsClassifier(n_neighbors=10)\n",
    "neigh.fit(X_train, y_train)\n",
    "y_pred = neigh.predict(X_test)\n",
    "print(metrics.accuracy_score(y_test, y_pred))"
   ]
  },
  {
   "cell_type": "markdown",
   "metadata": {},
   "source": [
    "## Linear Regression was better for inference"
   ]
  },
  {
   "cell_type": "code",
   "execution_count": null,
   "metadata": {},
   "outputs": [],
   "source": []
  }
 ],
 "metadata": {
  "kernelspec": {
   "display_name": "Python 3",
   "language": "python",
   "name": "python3"
  },
  "language_info": {
   "codemirror_mode": {
    "name": "ipython",
    "version": 3
   },
   "file_extension": ".py",
   "mimetype": "text/x-python",
   "name": "python",
   "nbconvert_exporter": "python",
   "pygments_lexer": "ipython3",
   "version": "3.7.6"
  }
 },
 "nbformat": 4,
 "nbformat_minor": 1
}
